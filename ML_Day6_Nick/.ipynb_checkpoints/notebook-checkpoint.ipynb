{
 "cells": [
  {
   "cell_type": "markdown",
   "metadata": {},
   "source": [
    "<center><h1>Linear Regression</h1></center>\n",
    "\n",
    "<center><h2>Step 1:  Importing and Cleaning the Data</h2></center>\n",
    "\n",
    "The data set is stored in a file in this folder called \"Boston.csv\".  Use pandas to import the data set into a data frame.  Call the data frame whatever you like.  How will you deal with missing values?"
   ]
  },
  {
   "cell_type": "code",
   "execution_count": 2,
   "metadata": {
    "collapsed": false
   },
   "outputs": [
    {
     "name": "stdout",
     "output_type": "stream",
     "text": [
      "         crim    zn  indus  chas    nox     rm    age     dis  rad  tax  \\\n",
      "0     0.00632  18.0   2.31     0  0.538  6.575   65.2  4.0900    1  296   \n",
      "1     0.02731   0.0   7.07     0  0.469  6.421   78.9  4.9671    2  242   \n",
      "2     0.02729   0.0   7.07     0  0.469  7.185   61.1  4.9671    2  242   \n",
      "3     0.03237   0.0   2.18     0  0.458  6.998   45.8  6.0622    3  222   \n",
      "4     0.06905   0.0   2.18     0  0.458  7.147   54.2  6.0622    3  222   \n",
      "5     0.02985   0.0   2.18     0  0.458  6.430   58.7  6.0622    3  222   \n",
      "6     0.08829  12.5   7.87     0  0.524  6.012   66.6  5.5605    5  311   \n",
      "7     0.14455  12.5   7.87     0  0.524  6.172   96.1  5.9505    5  311   \n",
      "8     0.21124  12.5   7.87     0  0.524  5.631  100.0  6.0821    5  311   \n",
      "9     0.17004  12.5   7.87     0  0.524  6.004   85.9  6.5921    5  311   \n",
      "10    0.22489  12.5   7.87     0  0.524  6.377   94.3  6.3467    5  311   \n",
      "11    0.11747  12.5   7.87     0  0.524  6.009   82.9  6.2267    5  311   \n",
      "12    0.09378  12.5   7.87     0  0.524  5.889   39.0  5.4509    5  311   \n",
      "13    0.62976   0.0   8.14     0  0.538  5.949   61.8  4.7075    4  307   \n",
      "14    0.63796   0.0   8.14     0  0.538  6.096   84.5  4.4619    4  307   \n",
      "15    0.62739   0.0   8.14     0  0.538  5.834   56.5  4.4986    4  307   \n",
      "16    1.05393   0.0   8.14     0  0.538  5.935   29.3  4.4986    4  307   \n",
      "17    0.78420   0.0   8.14     0  0.538  5.990   81.7  4.2579    4  307   \n",
      "18    0.80271   0.0   8.14     0  0.538  5.456   36.6  3.7965    4  307   \n",
      "19    0.72580   0.0   8.14     0  0.538  5.727   69.5  3.7965    4  307   \n",
      "20    1.25179   0.0   8.14     0  0.538  5.570   98.1  3.7979    4  307   \n",
      "21    0.85204   0.0   8.14     0  0.538  5.965   89.2  4.0123    4  307   \n",
      "22    1.23247   0.0   8.14     0  0.538  6.142   91.7  3.9769    4  307   \n",
      "23    0.98843   0.0   8.14     0  0.538  5.813  100.0  4.0952    4  307   \n",
      "24    0.75026   0.0   8.14     0  0.538  5.924   94.1  4.3996    4  307   \n",
      "25    0.84054   0.0   8.14     0  0.538  5.599   85.7  4.4546    4  307   \n",
      "26    0.67191   0.0   8.14     0  0.538  5.813   90.3  4.6820    4  307   \n",
      "27    0.95577   0.0   8.14     0  0.538  6.047   88.8  4.4534    4  307   \n",
      "28    0.77299   0.0   8.14     0  0.538  6.495   94.4  4.4547    4  307   \n",
      "29    1.00245   0.0   8.14     0  0.538  6.674   87.3  4.2390    4  307   \n",
      "..        ...   ...    ...   ...    ...    ...    ...     ...  ...  ...   \n",
      "476   4.87141   0.0  18.10     0  0.614  6.484   93.6  2.3053   24  666   \n",
      "477  15.02340   0.0  18.10     0  0.614  5.304   97.3  2.1007   24  666   \n",
      "478  10.23300   0.0  18.10     0  0.614  6.185   96.7  2.1705   24  666   \n",
      "479  14.33370   0.0  18.10     0  0.614  6.229   88.0  1.9512   24  666   \n",
      "480   5.82401   0.0  18.10     0  0.532  6.242   64.7  3.4242   24  666   \n",
      "481   5.70818   0.0  18.10     0  0.532  6.750   74.9  3.3317   24  666   \n",
      "482   5.73116   0.0  18.10     0  0.532  7.061   77.0  3.4106   24  666   \n",
      "483   2.81838   0.0  18.10     0  0.532  5.762   40.3  4.0983   24  666   \n",
      "484   2.37857   0.0  18.10     0  0.583  5.871   41.9  3.7240   24  666   \n",
      "485   3.67367   0.0  18.10     0  0.583  6.312   51.9  3.9917   24  666   \n",
      "486   5.69175   0.0  18.10     0  0.583  6.114   79.8  3.5459   24  666   \n",
      "487   4.83567   0.0  18.10     0  0.583  5.905   53.2  3.1523   24  666   \n",
      "488   0.15086   0.0  27.74     0  0.609  5.454   92.7  1.8209    4  711   \n",
      "489   0.18337   0.0  27.74     0  0.609  5.414   98.3  1.7554    4  711   \n",
      "490   0.20746   0.0  27.74     0  0.609  5.093   98.0  1.8226    4  711   \n",
      "491   0.10574   0.0  27.74     0  0.609  5.983   98.8  1.8681    4  711   \n",
      "492   0.11132   0.0  27.74     0  0.609  5.983   83.5  2.1099    4  711   \n",
      "493   0.17331   0.0   9.69     0  0.585  5.707   54.0  2.3817    6  391   \n",
      "494   0.27957   0.0   9.69     0  0.585  5.926   42.6  2.3817    6  391   \n",
      "495   0.17899   0.0   9.69     0  0.585  5.670   28.8  2.7986    6  391   \n",
      "496   0.28960   0.0   9.69     0  0.585  5.390   72.9  2.7986    6  391   \n",
      "497   0.26838   0.0   9.69     0  0.585  5.794   70.6  2.8927    6  391   \n",
      "498   0.23912   0.0   9.69     0  0.585  6.019   65.3  2.4091    6  391   \n",
      "499   0.17783   0.0   9.69     0  0.585  5.569   73.5  2.3999    6  391   \n",
      "500   0.22438   0.0   9.69     0  0.585  6.027   79.7  2.4982    6  391   \n",
      "501   0.06263   0.0  11.93     0  0.573  6.593   69.1  2.4786    1  273   \n",
      "502   0.04527   0.0  11.93     0  0.573  6.120   76.7  2.2875    1  273   \n",
      "503   0.06076   0.0  11.93     0  0.573  6.976   91.0  2.1675    1  273   \n",
      "504   0.10959   0.0  11.93     0  0.573  6.794   89.3  2.3889    1  273   \n",
      "505   0.04741   0.0  11.93     0  0.573  6.030   80.8  2.5050    1  273   \n",
      "\n",
      "     ptratio   black  lstat  medv  \n",
      "0       15.3  396.90   4.98  24.0  \n",
      "1       17.8  396.90   9.14  21.6  \n",
      "2       17.8  392.83   4.03  34.7  \n",
      "3       18.7  394.63   2.94  33.4  \n",
      "4       18.7  396.90   5.33  36.2  \n",
      "5       18.7  394.12   5.21  28.7  \n",
      "6       15.2  395.60  12.43  22.9  \n",
      "7       15.2  396.90  19.15  27.1  \n",
      "8       15.2  386.63  29.93  16.5  \n",
      "9       15.2  386.71  17.10  18.9  \n",
      "10      15.2  392.52  20.45  15.0  \n",
      "11      15.2  396.90  13.27  18.9  \n",
      "12      15.2  390.50  15.71  21.7  \n",
      "13      21.0  396.90   8.26  20.4  \n",
      "14      21.0  380.02  10.26  18.2  \n",
      "15      21.0  395.62   8.47  19.9  \n",
      "16      21.0  386.85   6.58  23.1  \n",
      "17      21.0  386.75  14.67  17.5  \n",
      "18      21.0  288.99  11.69  20.2  \n",
      "19      21.0  390.95  11.28  18.2  \n",
      "20      21.0  376.57  21.02  13.6  \n",
      "21      21.0  392.53  13.83  19.6  \n",
      "22      21.0  396.90  18.72  15.2  \n",
      "23      21.0  394.54  19.88  14.5  \n",
      "24      21.0  394.33  16.30  15.6  \n",
      "25      21.0  303.42  16.51  13.9  \n",
      "26      21.0  376.88  14.81  16.6  \n",
      "27      21.0  306.38  17.28  14.8  \n",
      "28      21.0  387.94  12.80  18.4  \n",
      "29      21.0  380.23  11.98  21.0  \n",
      "..       ...     ...    ...   ...  \n",
      "476     20.2  396.21  18.68  16.7  \n",
      "477     20.2  349.48  24.91  12.0  \n",
      "478     20.2  379.70  18.03  14.6  \n",
      "479     20.2  383.32  13.11  21.4  \n",
      "480     20.2  396.90  10.74  23.0  \n",
      "481     20.2  393.07   7.74  23.7  \n",
      "482     20.2  395.28   7.01  25.0  \n",
      "483     20.2  392.92  10.42  21.8  \n",
      "484     20.2  370.73  13.34  20.6  \n",
      "485     20.2  388.62  10.58  21.2  \n",
      "486     20.2  392.68  14.98  19.1  \n",
      "487     20.2  388.22  11.45  20.6  \n",
      "488     20.1  395.09  18.06  15.2  \n",
      "489     20.1  344.05  23.97   7.0  \n",
      "490     20.1  318.43  29.68   8.1  \n",
      "491     20.1  390.11  18.07  13.6  \n",
      "492     20.1  396.90  13.35  20.1  \n",
      "493     19.2  396.90  12.01  21.8  \n",
      "494     19.2  396.90  13.59  24.5  \n",
      "495     19.2  393.29  17.60  23.1  \n",
      "496     19.2  396.90  21.14  19.7  \n",
      "497     19.2  396.90  14.10  18.3  \n",
      "498     19.2  396.90  12.92  21.2  \n",
      "499     19.2  395.77  15.10  17.5  \n",
      "500     19.2  396.90  14.33  16.8  \n",
      "501     21.0  391.99   9.67  22.4  \n",
      "502     21.0  396.90   9.08  20.6  \n",
      "503     21.0  396.90   5.64  23.9  \n",
      "504     21.0  393.45   6.48  22.0  \n",
      "505     21.0  396.90   7.88  11.9  \n",
      "\n",
      "[506 rows x 14 columns]\n"
     ]
    }
   ],
   "source": [
    "# Import the Data Set here.\n",
    "import pandas as pd\n",
    "import numpy as np\n",
    "\n",
    "pd.options.mode.chained_assignment = None\n",
    "\n",
    "df = pd.read_csv(\"boston.csv\")\n",
    "\n",
    "# # Fix all unknown values\n",
    "# for column in df.columns:\n",
    "#     try: df[column][df[column] == \"?\"] = float('NaN')\n",
    "#     except: continue\n",
    "# for column in df.columns[1:]:\n",
    "#     df[column] = df[column].fillna(df[column].median())\n",
    "\n",
    "print(df)\n"
   ]
  },
  {
   "cell_type": "markdown",
   "metadata": {},
   "source": [
    "<center><h2>Step 2: Exploring the Data</h2></center>\n",
    "\n",
    "Now, you should explore your data.  Get a feel for it using summary statistics, and graphs!  If you're taking this step seriously, you should be graphing a ton of stuff. Some will end up being useful.  Alot of it won't."
   ]
  },
  {
   "cell_type": "code",
   "execution_count": 16,
   "metadata": {
    "collapsed": false
   },
   "outputs": [
    {
     "data": {
      "image/png": "[encoded data removed]",
      "text/plain": [
       "<matplotlib.figure.Figure at 0x118788668>"
      ]
     },
     "metadata": {},
     "output_type": "display_data"
    }
   ],
   "source": [
    "# Explore the data set here!\n",
    "import matplotlib.pyplot as plt\n",
    "\n",
    "# Plot ages\n",
    "plt.figure(1)\n",
    "plt.ylabel(\"PH-E\")\n",
    "plt.hist(df[\"PH-E\"])\n",
    "\n",
    "plt.show()\n"
   ]
  },
  {
   "cell_type": "markdown",
   "metadata": {},
   "source": [
    "<center><h2>Step 3: Training a Classifier</h2></center>\n",
    "\n",
    "You've cleaned your data, and split into training and testing sets, and explored your data frame.  Now, on to the fun stuff--let's create and train a Decision Tree Classifier!  Create a Decision Tree Classifier and fit it to your training set.  If you're not sure how, check out the sklearn docs for Decision Tree Classifiers!"
   ]
  },
  {
   "cell_type": "code",
   "execution_count": 42,
   "metadata": {
    "collapsed": false
   },
   "outputs": [
    {
     "name": "stdout",
     "output_type": "stream",
     "text": [
      "[[  7.89710145   7.06521739]\n",
      " [  7.77560976   2.04390244]\n",
      " [  7.73333333  23.66666667]\n",
      " [  7.79875776   4.30496894]\n",
      " [  7.775       14.        ]\n",
      " [  7.6         36.        ]\n",
      " [  7.7742268    3.22886598]\n",
      " [  7.83454545   5.40181818]]\n"
     ]
    },
    {
     "data": {
      "image/png": "[encoded data removed]",
      "text/plain": [
       "<matplotlib.figure.Figure at 0x11e4ab9b0>"
      ]
     },
     "metadata": {},
     "output_type": "display_data"
    }
   ],
   "source": [
    "from sklearn.cluster import KMeans\n",
    "\n",
    "features = df[[\"PH-E\", \"SED-E\"]]\n",
    "\n",
    "# Fit model\n",
    "model = KMeans().fit(features)\n",
    "print(model.cluster_centers_)\n",
    "\n",
    "# Show plot\n",
    "plt.figure(1)\n",
    "plt.ylabel(\"PH-E\")\n",
    "plt.xlabel(\"SED-E\")\n",
    "plt.scatter(df[\"SED-E\"], df[\"PH-E\"])\n",
    "\n",
    "plt.show()\n",
    "\n"
   ]
  },
  {
   "cell_type": "markdown",
   "metadata": {},
   "source": [
    "<center><h2>Step 4: Evaluating our Model</h2></center>\n",
    "\n",
    "We've trained our model, but **_can we trust our results?_** Use your Decision Tree Classifier to predict the outcomes of the items in your testing set.  Now that we have the results of our testing set predictions, let's calculate our F1 Score to see how we did.  If you aren't sure how to calculate the F1 Score, refer to the docs! "
   ]
  },
  {
   "cell_type": "code",
   "execution_count": null,
   "metadata": {
    "collapsed": false
   },
   "outputs": [],
   "source": []
  },
  {
   "cell_type": "markdown",
   "metadata": {},
   "source": []
  },
  {
   "cell_type": "code",
   "execution_count": null,
   "metadata": {
    "collapsed": true
   },
   "outputs": [],
   "source": []
  },
  {
   "cell_type": "code",
   "execution_count": null,
   "metadata": {
    "collapsed": true
   },
   "outputs": [],
   "source": []
  }
 ],
 "metadata": {
  "anaconda-cloud": {},
  "kernelspec": {
   "display_name": "Python 3",
   "language": "python",
   "name": "python3"
  },
  "language_info": {
   "codemirror_mode": {
    "name": "ipython",
    "version": 3
   },
   "file_extension": ".py",
   "mimetype": "text/x-python",
   "name": "python",
   "nbconvert_exporter": "python",
   "pygments_lexer": "ipython3",
   "version": "3.6.0"
  }
 },
 "nbformat": 4,
 "nbformat_minor": 1
}
