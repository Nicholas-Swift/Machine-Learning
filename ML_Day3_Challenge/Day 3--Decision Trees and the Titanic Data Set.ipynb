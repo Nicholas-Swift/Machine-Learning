{
 "cells": [
  {
   "cell_type": "markdown",
   "metadata": {},
   "source": [
    "<center><h1>Day 3:  Classifying the Titanic Data Set with Decision Trees</h1></center>\n",
    "\n",
    "In today's exercise, you'll use sklearn's **_DecisionTreeClassifier_** class to predict whether or not a passenger survived the Titanic disaster based on indicators about them.  \n",
    "\n",
    "Also, uh, just in case you haven't seen the movie yet, the Titanic crashes. Spoiler Alert (Apologies to James Cameron).\n",
    "\n",
    "<center><img src=\"titanic.jpg\"></center>\n",
    "\n",
    "You'll be repeating most of the work you did in the Data Camp tutorial as prework for today's class--, but with one major difference.  This time, it's all up to you. Each stage will prompt you with the basic steps for importing, cleaning, exploring, training, and testing--but the implementation of each stage will be up to you.  Remember to use the documentation for pandas, numpy, and sklearn as necessary.  If you don't know how to do something, use the internet to figure it out until you do.  You'll be presenting your model during the start of Thursday's class.\n",
    "\n",
    "\n",
    "\n",
    "<center><h2>Step 1:  Importing and Cleaning the Data</h2></center>\n",
    "\n",
    "The data set is stored in a file in this folder called \"titanic.csv\".  Use pandas to import the data set into a data frame.  Call the data frame whatever you like.  How will you deal with missing values?  Once your data set is \"clean\", remember to split it into a training set and a testing set.  In general, you want to have a 70/30 split between your training and testing sets, respectively."
   ]
  },
  {
   "cell_type": "code",
   "execution_count": 36,
   "metadata": {
    "collapsed": false
   },
   "outputs": [],
   "source": [
    "# Import the Data Set here.  Now, clean your data!  Find missing (NaN) values and deal with them in the manner \n",
    "# you think is most appropriate!\n",
    "import pandas as pd\n",
    "import numpy as np\n",
    "\n",
    "# Remove warnings for chaining\n",
    "pd.options.mode.chained_assignment = None\n",
    "\n",
    "# Get csv and turn into a dataframe\n",
    "df = pd.read_csv('titanic_data_set.csv')\n",
    "\n",
    "# Fix all unknown values\n",
    "df[\"Age\"] = df[\"Age\"].fillna(df[\"Age\"].median())\n",
    "df[\"Embarked\"] = df[\"Embarked\"].fillna(\"S\")\n",
    "\n",
    "# Add child field, might be needed\n",
    "df[\"Child\"] = float(\"NaN\")\n",
    "df[\"Child\"][df[\"Age\"] < 18] = 0\n",
    "df[\"Child\"][df[\"Age\"] >= 18] = 1\n",
    "\n",
    "# Change sex field\n",
    "df[\"Sex\"][df[\"Sex\"] == \"male\"] = 0\n",
    "df[\"Sex\"][df[\"Sex\"] == \"female\"] = 1\n",
    "\n",
    "# # Change embarked field\n",
    "df[\"Embarked\"][df[\"Embarked\"] == \"S\"] = 0\n",
    "df[\"Embarked\"][df[\"Embarked\"] == \"C\"] = 1\n",
    "df[\"Embarked\"][df[\"Embarked\"] == \"Q\"] = 2\n",
    "\n",
    "# Split your data set into training and testing sets. In general, you want to reserve\n",
    "# around 30% of your data for testing.  \n",
    "from sklearn.model_selection import train_test_split\n",
    "\n",
    "train, test = train_test_split(df, train_size=0.7)\n",
    "\n"
   ]
  },
  {
   "cell_type": "markdown",
   "metadata": {},
   "source": [
    "<center><h2>Step 2: Exploring the Data</h2></center>\n",
    "\n",
    "Now, you should explore your data.  Get a feel for it using summary statistics, and graphs!  If you're taking this step seriously, you should be graphing a ton of stuff. Some will end up being useful.  Alot of it won't.  Your job here is to discover which features have the strongest correlation with survival outcomes.  This will become important when we start actually training our Decision Tree Classifier!"
   ]
  },
  {
   "cell_type": "code",
   "execution_count": 37,
   "metadata": {
    "collapsed": false
   },
   "outputs": [
    {
     "data": {
      "image/png": "[encoded data removed]",
      "text/plain": [
       "<matplotlib.figure.Figure at 0x111871240>"
      ]
     },
     "metadata": {},
     "output_type": "display_data"
    },
    {
     "data": {
      "image/png": "[encoded data removed]",
      "text/plain": [
       "<matplotlib.figure.Figure at 0x112670ef0>"
      ]
     },
     "metadata": {},
     "output_type": "display_data"
    }
   ],
   "source": [
    "# Explore the data set here.  Try and discover what categories correlate the most with the \n",
    "# survival chance of the passengers!\n",
    "import matplotlib.pyplot as plt\n",
    "\n",
    "# Plot ages\n",
    "plt.figure(1)\n",
    "plt.title(\"Ages\")\n",
    "plt.ylabel(\"Number of passengers\")\n",
    "plt.xlabel(\"Age of passenger\")\n",
    "plt.hist(df[\"Age\"], bins=15)\n",
    "\n",
    "# Plot sex\n",
    "plt.figure(2)\n",
    "plt.title(\"Sexes\")\n",
    "plt.ylabel(\"Number of passengers\")\n",
    "plt.xlabel(\"Sex of passenger\")\n",
    "plt.hist(df[\"Sex\"], bins=2)\n",
    "\n",
    "plt.show()\n"
   ]
  },
  {
   "cell_type": "markdown",
   "metadata": {},
   "source": [
    "<center><h2>Step 3: Training a Classifier</h2></center>\n",
    "\n",
    "You've cleaned your data, and split into training and testing sets, and explored your data frame.  Now, on to the fun stuff--let's create and train a Decision Tree Classifier!  Create a Decision Tree Classifier and fit it to your training set.  If you're not sure how, check out the sklearn docs for Decision Tree Classifiers!"
   ]
  },
  {
   "cell_type": "code",
   "execution_count": 65,
   "metadata": {
    "collapsed": false
   },
   "outputs": [
    {
     "name": "stdout",
     "output_type": "stream",
     "text": [
      "\n",
      "\n",
      "Decision Tree\n",
      "[ 0.35278411  0.38774529  0.15943755  0.04902164  0.05101141]\n",
      "0.92455858748\n",
      "\n",
      "\n",
      "Bayes\n",
      "0.796147672552\n"
     ]
    }
   ],
   "source": [
    "# Create and train a Decision Tree Classifier from sklearn.tree. If you're unsure of how to use the \n",
    "# Decision Tree Classifier, check out the docs for it--sklearn has some of the best documentation out there!\n",
    "from sklearn.tree import DecisionTreeClassifier\n",
    "from sklearn.naive_bayes import GaussianNB\n",
    "\n",
    "target = train[\"Survived\"].values\n",
    "features = train[[\"Age\", \"Sex\", \"Pclass\", \"Embarked\", \"Parch\"]].values\n",
    "\n",
    "# Tree\n",
    "tree = DecisionTreeClassifier().fit(features, target)\n",
    "feature_importances = tree.feature_importances_\n",
    "score = tree.score(features, target)\n",
    "\n",
    "print(\"\\n\\nDecision Tree\")\n",
    "print(feature_importances)\n",
    "print(score)\n",
    "\n",
    "\n",
    "# Bayes\n",
    "bayes = GaussianNB().fit(features, target)\n",
    "score_bayes = bayes.score(features, target)\n",
    "\n",
    "print(\"\\n\\nBayes\")\n",
    "print(score_bayes)\n",
    "\n"
   ]
  },
  {
   "cell_type": "markdown",
   "metadata": {},
   "source": [
    "<center><h2>Step 4: Evaluating our Model</h2></center>\n",
    "\n",
    "We've trained our model, but **_can we trust our results?_** Use your Decision Tree Classifier to predict the outcomes of the items in your testing set.  Now that we have the results of our testing set predictions, let's calculate our F1 Score to see how we did.  If you aren't sure how to calculate the F1 Score, refer to the docs! "
   ]
  },
  {
   "cell_type": "code",
   "execution_count": 66,
   "metadata": {
    "collapsed": false
   },
   "outputs": [
    {
     "name": "stdout",
     "output_type": "stream",
     "text": [
      "\n",
      "\n",
      "Decision Tree\n",
      "0.742857142857\n",
      "\n",
      "\n",
      "Bayes\n",
      "0.704761904762\n"
     ]
    }
   ],
   "source": [
    "# Evaluate your model's accuracy here.  Use your testing set to do--how will you evaluate your model's accuracy?\n",
    "from sklearn.metrics import f1_score\n",
    "\n",
    "target_test = test[\"Survived\"].values\n",
    "features_test = test[[\"Age\", \"Sex\", \"Pclass\", \"Embarked\", \"Parch\"]].values\n",
    "\n",
    "# Tree\n",
    "predict = tree.predict(features_test)\n",
    "score = f1_score(target_test, predict)\n",
    "\n",
    "print(\"\\n\\nDecision Tree\")\n",
    "print(score)\n",
    "\n",
    "\n",
    "# Bayes\n",
    "print(\"\\n\\nBayes\")\n",
    "predict_bayes = bayes.predict(features_test)\n",
    "score_bayes = f1_score(target_test, predict_bayes)\n",
    "print(score_bayes)\n"
   ]
  },
  {
   "cell_type": "markdown",
   "metadata": {},
   "source": [
    "<center><h2>Stretch Challenge: Tuning our Model for Higher Accuracy</h2></center>\n",
    "\n",
    "Great job!  Now, tweak your model to see how much higher you can get your accuracy score!  Gloves are off--get that F1 Score up.  Every percentage point counts!\n",
    "\n",
    "(Hint:  Take a look at sklearn's GridSearchCV module!)"
   ]
  },
  {
   "cell_type": "code",
   "execution_count": 12,
   "metadata": {
    "collapsed": true
   },
   "outputs": [],
   "source": [
    "# Stretch challenge--can you tweak your model to get the accuracy up?  How high can you get your accuracy?\n",
    "\n"
   ]
  },
  {
   "cell_type": "code",
   "execution_count": null,
   "metadata": {
    "collapsed": true
   },
   "outputs": [],
   "source": []
  }
 ],
 "metadata": {
  "anaconda-cloud": {},
  "kernelspec": {
   "display_name": "Python 3",
   "language": "python",
   "name": "python3"
  },
  "language_info": {
   "codemirror_mode": {
    "name": "ipython",
    "version": 3
   },
   "file_extension": ".py",
   "mimetype": "text/x-python",
   "name": "python",
   "nbconvert_exporter": "python",
   "pygments_lexer": "ipython3",
   "version": "3.6.0"
  }
 },
 "nbformat": 4,
 "nbformat_minor": 1
}
