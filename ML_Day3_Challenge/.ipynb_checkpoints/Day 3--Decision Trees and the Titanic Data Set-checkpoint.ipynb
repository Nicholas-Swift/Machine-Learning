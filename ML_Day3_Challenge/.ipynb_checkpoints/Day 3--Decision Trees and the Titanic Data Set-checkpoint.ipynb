{
 "cells": [
  {
   "cell_type": "markdown",
   "metadata": {},
   "source": [
    "<center><h1>Day 3:  Classifying the Titanic Data Set with Decision Trees</h1></center>\n",
    "\n",
    "In today's exercise, you'll use sklearn's **_DecisionTreeClassifier_** class to predict whether or not a passenger survived the Titanic disaster based on indicators about them.  \n",
    "\n",
    "Also, uh, just in case you haven't seen the movie yet, the Titanic crashes. Spoiler Alert (Apologies to James Cameron).\n",
    "\n",
    "<center><img src=\"titanic.jpg\"></center>\n",
    "\n",
    "You'll be repeating most of the work you did in the Data Camp tutorial as prework for today's class--, but with one major difference.  This time, it's all up to you. Each stage will prompt you with the basic steps for importing, cleaning, exploring, training, and testing--but the implementation of each stage will be up to you.  Remember to use the documentation for pandas, numpy, and sklearn as necessary.  If you don't know how to do something, use the internet to figure it out until you do.  You'll be presenting your model during the start of Thursday's class.\n",
    "\n",
    "\n",
    "\n",
    "<center><h2>Step 1:  Importing and Cleaning the Data</h2></center>\n",
    "\n",
    "The data set is stored in a file in this folder called \"titanic.csv\".  Use pandas to import the data set into a data frame.  Call the data frame whatever you like.  How will you deal with missing values?  Once your data set is \"clean\", remember to split it into a training set and a testing set.  In general, you want to have a 70/30 split between your training and testing sets, respectively."
   ]
  },
  {
   "cell_type": "code",
   "execution_count": 5,
   "metadata": {
    "collapsed": false
   },
   "outputs": [
    {
     "name": "stderr",
     "output_type": "stream",
     "text": [
      "/Users/Nick/anaconda3/lib/python3.6/site-packages/ipykernel/__main__.py:9: SettingWithCopyWarning: \n",
      "A value is trying to be set on a copy of a slice from a DataFrame\n",
      "\n",
      "See the caveats in the documentation: http://pandas.pydata.org/pandas-docs/stable/indexing.html#indexing-view-versus-copy\n",
      "/Users/Nick/anaconda3/lib/python3.6/site-packages/ipykernel/__main__.py:10: SettingWithCopyWarning: \n",
      "A value is trying to be set on a copy of a slice from a DataFrame\n",
      "\n",
      "See the caveats in the documentation: http://pandas.pydata.org/pandas-docs/stable/indexing.html#indexing-view-versus-copy\n",
      "/Users/Nick/anaconda3/lib/python3.6/site-packages/ipykernel/__main__.py:16: SettingWithCopyWarning: \n",
      "A value is trying to be set on a copy of a slice from a DataFrame\n",
      "\n",
      "See the caveats in the documentation: http://pandas.pydata.org/pandas-docs/stable/indexing.html#indexing-view-versus-copy\n",
      "/Users/Nick/anaconda3/lib/python3.6/site-packages/ipykernel/__main__.py:17: SettingWithCopyWarning: \n",
      "A value is trying to be set on a copy of a slice from a DataFrame\n",
      "\n",
      "See the caveats in the documentation: http://pandas.pydata.org/pandas-docs/stable/indexing.html#indexing-view-versus-copy\n",
      "/Users/Nick/anaconda3/lib/python3.6/site-packages/ipykernel/__main__.py:18: SettingWithCopyWarning: \n",
      "A value is trying to be set on a copy of a slice from a DataFrame\n",
      "\n",
      "See the caveats in the documentation: http://pandas.pydata.org/pandas-docs/stable/indexing.html#indexing-view-versus-copy\n"
     ]
    }
   ],
   "source": [
    "# Import the Data Set here.  Now, clean your data!  Find missing (NaN) values and deal with them in the manner \n",
    "# you think is most appropriate!\n",
    "import pandas as pd\n",
    "import numpy as np\n",
    "\n",
    "df = pd.read_csv('titanic_data_set.csv', index_col=False)\n",
    "\n",
    "# Change male and female to 1 and 0\n",
    "df[\"Sex\"][df[\"Sex\"] == \"male\"] = 1\n",
    "df[\"Sex\"][df[\"Sex\"] == \"female\"] = 0\n",
    "\n",
    "# Add missing ages as median age\n",
    "df[\"Age\"] = df[\"Age\"].fillna(df[\"Age\"].median())\n",
    "\n",
    "# Change embarked to S = 0, C = 1, Q = 2\n",
    "df[\"Embarked\"][df[\"Embarked\"] == \"S\"] = 0\n",
    "df[\"Embarked\"][df[\"Embarked\"] == \"C\"] = 1\n",
    "df[\"Embarked\"][df[\"Embarked\"] == \"Q\"] = 2\n",
    "\n",
    "\n",
    "# Split your data set into training and testing sets. In general, you want to reserve\n",
    "# around 30% of your data for testing.  \n",
    "from sklearn.model_selection import train_test_split\n",
    "\n",
    "train, test = train_test_split(df, train_size=0.7)\n",
    "\n"
   ]
  },
  {
   "cell_type": "markdown",
   "metadata": {},
   "source": [
    "<center><h2>Step 2: Exploring the Data</h2></center>\n",
    "\n",
    "Now, you should explore your data.  Get a feel for it using summary statistics, and graphs!  If you're taking this step seriously, you should be graphing a ton of stuff. Some will end up being useful.  Alot of it won't.  Your job here is to discover which features have the strongest correlation with survival outcomes.  This will become important when we start actually training our Decision Tree Classifier!"
   ]
  },
  {
   "cell_type": "code",
   "execution_count": 9,
   "metadata": {
    "collapsed": true
   },
   "outputs": [],
   "source": [
    "# Explore the data set here.  Try and discover what categories correlate the most with the \n",
    "# survival chance of the passengers!\n",
    "import matplotlib.pyplot as plt\n",
    "\n",
    "\n"
   ]
  },
  {
   "cell_type": "markdown",
   "metadata": {},
   "source": [
    "<center><h2>Step 3: Training a Classifier</h2></center>\n",
    "\n",
    "You've cleaned your data, and split into training and testing sets, and explored your data frame.  Now, on to the fun stuff--let's create and train a Decision Tree Classifier!  Create a Decision Tree Classifier and fit it to your training set.  If you're not sure how, check out the sklearn docs for Decision Tree Classifiers!"
   ]
  },
  {
   "cell_type": "code",
   "execution_count": 10,
   "metadata": {
    "collapsed": true
   },
   "outputs": [],
   "source": [
    "# Create and train a Decision Tree Classifier from sklearn.tree. If you're unsure of how to use the \n",
    "# Decision Tree Classifier, check out the docs for it--sklearn has some of the best documentation out there!\n",
    "from sklearn.tree import DecisionTreeClassifier\n",
    "\n",
    "\n"
   ]
  },
  {
   "cell_type": "markdown",
   "metadata": {},
   "source": [
    "<center><h2>Step 4: Evaluating our Model</h2></center>\n",
    "\n",
    "We've trained our model, but **_can we trust our results?_** Use your Decision Tree Classifier to predict the outcomes of the items in your testing set.  Now that we have the results of our testing set predictions, let's calculate our F1 Score to see how we did.  If you aren't sure how to calculate the F1 Score, refer to the docs! "
   ]
  },
  {
   "cell_type": "code",
   "execution_count": 11,
   "metadata": {
    "collapsed": true
   },
   "outputs": [],
   "source": [
    "# Evaluate your model's accuracy here.  Use your testing set to do--how will you evaluate your model's accuracy?\n",
    "from sklearn.metrics import f1_score\n",
    "\n",
    "\n"
   ]
  },
  {
   "cell_type": "markdown",
   "metadata": {},
   "source": [
    "<center><h2>Stretch Challenge: Tuning our Model for Higher Accuracy</h2></center>\n",
    "\n",
    "Great job!  Now, tweak your model to see how much higher you can get your accuracy score!  Gloves are off--get that F1 Score up.  Every percentage point counts!\n",
    "\n",
    "(Hint:  Take a look at sklearn's GridSearchCV module!)"
   ]
  },
  {
   "cell_type": "code",
   "execution_count": 12,
   "metadata": {
    "collapsed": true
   },
   "outputs": [],
   "source": [
    "# Stretch challenge--can you tweak your model to get the accuracy up?  How high can you get your accuracy?\n",
    "\n"
   ]
  },
  {
   "cell_type": "code",
   "execution_count": null,
   "metadata": {
    "collapsed": true
   },
   "outputs": [],
   "source": []
  }
 ],
 "metadata": {
  "anaconda-cloud": {},
  "kernelspec": {
   "display_name": "Python 3",
   "language": "python",
   "name": "python3"
  },
  "language_info": {
   "codemirror_mode": {
    "name": "ipython",
    "version": 3
   },
   "file_extension": ".py",
   "mimetype": "text/x-python",
   "name": "python",
   "nbconvert_exporter": "python",
   "pygments_lexer": "ipython3",
   "version": "3.6.0"
  }
 },
 "nbformat": 4,
 "nbformat_minor": 1
}
