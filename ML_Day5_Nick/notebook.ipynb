{
 "cells": [
  {
   "cell_type": "markdown",
   "metadata": {},
   "source": [
    "<center><h1>K-Means</h1></center>"
   ]
  },
  {
   "cell_type": "code",
   "execution_count": 20,
   "metadata": {
    "collapsed": false
   },
   "outputs": [],
   "source": [
    "# Import the Data Set here.\n",
    "import pandas as pd\n",
    "import numpy as np\n",
    "\n",
    "pd.options.mode.chained_assignment = None\n",
    "\n",
    "df = pd.read_csv(\"dataset.csv\")\n"
   ]
  },
  {
   "cell_type": "markdown",
   "metadata": {},
   "source": [
    "<center><h2>Clean the data</h2></center>\n",
    "\n",
    "Clean yo data."
   ]
  },
  {
   "cell_type": "code",
   "execution_count": 21,
   "metadata": {
    "collapsed": false
   },
   "outputs": [
    {
     "name": "stdout",
     "output_type": "stream",
     "text": [
      "           Date    Q-E  ZN-E  PH-E DBO-E DQO-E SS-E SSV-E SED-E  COND-E  \\\n",
      "0      D-1/3/90  44101  1.50   7.8   NaN   407  166  66.3   4.5    2110   \n",
      "1      D-2/3/90  39024  3.00   7.7   NaN   443  214  69.2   6.5    2660   \n",
      "2      D-4/3/90  32229  5.00   7.6   NaN   528  186  69.9   3.4    1666   \n",
      "3      D-5/3/90  35023  3.50   7.9   205   588  192  65.6   4.5    2430   \n",
      "4      D-6/3/90  36924  1.50   8.0   242   496  176  64.8   4.0    2110   \n",
      "5      D-7/3/90  38572  3.00   7.8   202   372  186  68.8   4.5    1644   \n",
      "6      D-8/3/90  41115  6.00   7.8   NaN   552  262  64.1   5.0    1603   \n",
      "7      D-9/3/90  36107  5.00   7.7   215   489  334  40.7   6.0    1613   \n",
      "8     D-11/3/90  29156  2.50   7.7   206   451  194  69.1   4.5    1249   \n",
      "9     D-12/3/90  39246  2.00   7.8   172   506  200  69.0   5.0    1865   \n",
      "10    D-13/3/90  42393  0.70   7.9   189   478  230  67.0   5.5    1410   \n",
      "11    D-14/3/90  42857  1.50   7.7   238   319  292  33.8   3.5    1261   \n",
      "12    D-15/3/90  42911  0.70   7.6   114   252  116  58.6   1.2    1238   \n",
      "13    D-16/3/90  40376   NaN   8.1   204   333  174  67.8   3.0    2390   \n",
      "14    D-18/3/90  40923  3.50   7.6   146   329  188  57.4   2.5    1300   \n",
      "15    D-19/3/90  43830   1.5   7.8   177   512  214  58.9   5.5    1605   \n",
      "16    D-20/3/90  39165  1.20   7.4   250   447  252  61.1   7.0    1533   \n",
      "17    D-21/3/90  35791  1.20   7.8   277   466  246  63.4   4.0    1556   \n",
      "18    D-22/3/90  37419  1.20   7.6   219   446  222  61.3   5.5    1600   \n",
      "19    D-23/3/90  40983  3.00   7.6   182   431  214  57.0   7.0    1591   \n",
      "20    D-25/3/90  42217  8.50   7.5   138   333  240  55.0   3.8    1087   \n",
      "21    D-26/3/90  47665  1.20   7.7   156   405  200  74.0   4.0    1856   \n",
      "22    D-27/3/90  44314  3.00   7.8   155   389  308  49.4   6.0    1927   \n",
      "23    D-28/3/90  40841  1.00   7.6   179   389  168  69.0   3.5    1240   \n",
      "24    D-29/3/90  41157  3.00   8.0   145   398  192  66.7   4.5    2240   \n",
      "25    D-30/3/90  40078  1.40   7.9   198   464  228  64.9   4.6    1431   \n",
      "26     D-1/2/90  44365  7.50   7.9   NaN   365  212  62.3   3.5    1339   \n",
      "27     D-2/2/90  43080  4.25   7.8    95   349  136  76.5   2.5    1063   \n",
      "28     D-4/2/90  29414  3.00   7.6   160   374  168  69.0   3.1    1042   \n",
      "29     D-5/2/90  37312  1.00   8.1   205   492  192  70.8   4.0    1454   \n",
      "..          ...    ...   ...   ...   ...   ...  ...   ...   ...     ...   \n",
      "497  D-25/10/91  35400  0.70   7.6   156   364  194  63.9   5.5    1680   \n",
      "498  D-26/10/91  30964  3.30   7.7   220   540  184  62.0   3.5    1445   \n",
      "499  D-27/10/91  35573  7.30   7.6   176   333  178  64.0   3.5    1627   \n",
      "500  D-29/10/91  29801  1.60   7.7   172   400  136  70.1   1.5    1402   \n",
      "501  D-30/10/91  31524  1.60   7.9   NaN   478  204  64.7   6.0    1798   \n",
      "502    D-1/8/91  29834  3.00   7.4   160   348  194  61.9   3.0    1720   \n",
      "503    D-2/8/91  28492  2.60   7.5   124   281  172  66.3   3.0    1520   \n",
      "504    D-4/8/91  24978  0.50   7.3   146   288  124  67.7   2.0    1210   \n",
      "505    D-5/8/91  29719  0.20   7.6   133   284  186  71.0   5.0    1114   \n",
      "506    D-6/8/91  29741  0.45   7.9   151   316  196  64.3   2.5     948   \n",
      "507    D-7/8/91  29027  0.40   7.6   136   328  186  67.7   3.0     899   \n",
      "508    D-8/8/91  30211  0.50   7.6   114   521  506  44.3   7.5     866   \n",
      "509    D-9/8/91  30848  0.20   7.7   142   376  144  70.8   3.0     940   \n",
      "510   D-11/8/91  17527  0.55   7.5   150   171  172  37.2   1.4     732   \n",
      "511   D-12/8/91  33331  0.23   7.6    92   233  234  37.6   1.4     829   \n",
      "512   D-13/8/91  27998  0.62   7.5   138   268  154  66.2   1.7     890   \n",
      "513   D-14/8/91  32845  0.23   7.6    84   251   98  71.4   2.0     866   \n",
      "514   D-16/8/91  27933  0.20   7.6   158   375  178  60.7   3.5    1049   \n",
      "515   D-18/8/91  27527  0.20   7.3   191   240  166  73.5   3.0    1072   \n",
      "516   D-19/8/91  32363  0.10   7.6   159   310  146  68.5   1.6    1096   \n",
      "517   D-20/8/91  31437  0.47   7.6   132   304  148  64.9   2.0     939   \n",
      "518   D-21/8/91  31914  2.00   7.7   127   274  144  72.2   2.0    1031   \n",
      "519   D-22/8/91  28088  0.20   7.5   153   307  124  82.3   2.5    1044   \n",
      "520   D-23/8/91  27838  0.13   7.6   179   265  128  71.9   1.8     992   \n",
      "521   D-25/8/91  29271  0.36   7.5    99   585  140  71.4   NaN     962   \n",
      "522   D-26/8/91  32723  0.16   7.7    93   252  176  56.8   2.3     894   \n",
      "523   D-27/8/91  33535  0.32   7.8   192   346  172  68.6   4.0     988   \n",
      "524   D-28/8/91  32922  0.30   7.4   139   367  180  64.4   3.0    1060   \n",
      "525   D-29/8/91  32190  0.30   7.3   200   545  258  65.1   4.0    1260   \n",
      "526   D-30/8/91  30488  0.21   7.5   152   300  132  69.7   NaN    1073   \n",
      "\n",
      "      ...     COND-S RD-DBO-P  RD-SS-P RD-SED-P RD-DBO-S  RD-DQO-S  RD-DBO-G  \\\n",
      "0     ...       2000      NaN     58.8     95.5      NaN      70.0       NaN   \n",
      "1     ...       2590      NaN     60.7     94.8      NaN      80.8       NaN   \n",
      "2     ...       1888      NaN     58.2     95.6      NaN      52.9       NaN   \n",
      "3     ...       1840     33.1     64.2     95.3     87.3      72.3      90.2   \n",
      "4     ...       2120      NaN     62.7     95.6      NaN      71.0      92.1   \n",
      "5     ...       1764      NaN     59.7     96.5     86.7      78.3      90.1   \n",
      "6     ...       1703      NaN     61.9     93.8     89.1      79.8       NaN   \n",
      "7     ...       1606      NaN     70.4     95.6     90.6      53.7      92.1   \n",
      "8     ...       1338     46.1     43.6     92.5     85.6      58.2      92.2   \n",
      "9     ...       1616     21.2     59.7     90.8     88.4      66.1      89.0   \n",
      "10    ...       1575      0.6     45.8     92.0     11.6      25.7      19.6   \n",
      "11    ...       1304     31.8     61.2     92.9      NaN       NaN       NaN   \n",
      "12    ...       1221     46.6     48.5     91.7      NaN      20.4      26.3   \n",
      "13    ...       2550     41.1     50.0     84.0     76.5      52.9      84.3   \n",
      "14    ...       1545     32.7     33.3     90.0     82.6      61.3      87.0   \n",
      "15    ...       1110     28.0     72.7     92.7     78.8      36.6      85.9   \n",
      "16    ...       1402     49.8     58.3     92.3     89.9      96.8      94.4   \n",
      "17    ...       1606      NaN     39.6     78.3     85.5      70.4      91.3   \n",
      "18    ...       1780     35.3     57.5     92.0     75.6      49.3      80.8   \n",
      "19    ...       1597     20.1     64.5     93.6     86.9      68.1      87.4   \n",
      "20    ...       1223     29.4     55.4     91.3     85.2      68.0      88.4   \n",
      "21    ...       1706     28.1     50.0     91.4     85.2      76.5      87.8   \n",
      "22    ...       1869     52.0     64.9     90.8     87.6      71.2      90.3   \n",
      "23    ...       1416     26.7     66.2     95.0     89.2      72.5      91.1   \n",
      "24    ...       2290     34.3     65.0     94.2     89.3      69.7      89.7   \n",
      "25    ...       1475     27.2     67.6     97.3     90.4      68.0      91.4   \n",
      "26    ...       1377      NaN     50.0     89.4      NaN      76.6       NaN   \n",
      "27    ...       1220      6.8     47.9     80.0     84.6      78.9      80.0   \n",
      "28    ...       1087     42.7     54.5     95.7     84.9      73.6      88.1   \n",
      "29    ...       1275      NaN     33.0     94.5     85.3      73.7      84.4   \n",
      "..    ...        ...      ...      ...      ...      ...       ...       ...   \n",
      "497   ...       1840     47.3     61.3     94.0     76.4       NaN      86.5   \n",
      "498   ...       1337      NaN     38.6     93.3      NaN      87.0      92.7   \n",
      "499   ...       1799      NaN     40.4     95.0      NaN      72.9      90.9   \n",
      "500   ...       1468     32.4     40.4     88.0     87.8      77.6      91.3   \n",
      "501   ...       1568      NaN     43.9     65.3      NaN      75.3       NaN   \n",
      "502   ...       1772     29.1     53.5     92.0     85.7      64.2      90.6   \n",
      "503   ...       1549     34.2     47.7     99.0     84.4      66.1      90.3   \n",
      "504   ...       1259      NaN     52.3     92.3     75.3       NaN      86.3   \n",
      "505   ...       1100     55.1     73.2     96.0     82.0      62.5      91.7   \n",
      "506   ...        951     44.8     64.5     95.0     82.2      80.0      89.4   \n",
      "507   ...        898      NaN     64.1     94.0     84.9      60.4      91.9   \n",
      "508   ...        884     48.7     86.9     98.8     81.0      67.9      90.4   \n",
      "509   ...        947      NaN     47.6     97.3      NaN      77.6      93.7   \n",
      "510   ...        728     62.8     77.7     90.0     73.8      65.5      92.7   \n",
      "511   ...        929     36.9     43.6     86.7     87.7      71.9      91.3   \n",
      "512   ...        858     38.1     41.6     86.7     87.7      79.0      94.2   \n",
      "513   ...        879     50.9     36.5     80.0     87.0      69.6      91.7   \n",
      "514   ...        828     68.0     66.7     96.7     81.6      41.8      94.3   \n",
      "515   ...        999     38.5     54.5     88.0     90.0       NaN      95.8   \n",
      "516   ...       1083     25.2     61.4     91.2     78.6      65.1      86.8   \n",
      "517   ...       1012     45.6     60.3     94.4     82.5      72.9      89.4   \n",
      "518   ...       1053      NaN      NaN      NaN      NaN      77.7       NaN   \n",
      "519   ...       1038     40.5     54.4     94.0     89.7      75.5      93.5   \n",
      "520   ...       1044     13.7     45.0     95.0     87.5      71.3      93.9   \n",
      "521   ...        968     40.8     71.6      NaN     59.0      26.4      74.7   \n",
      "522   ...        942      NaN     62.3     93.3     69.8      75.9      79.6   \n",
      "523   ...        950      NaN     58.3     97.8     83.0      59.1      91.1   \n",
      "524   ...       1136      NaN     65.0     97.1     76.2      66.4      82.0   \n",
      "525   ...       1326     39.8     65.9     97.1     81.7      70.9      89.5   \n",
      "526   ...       1224      NaN     69.5      NaN     81.7      76.4       NaN   \n",
      "\n",
      "    RD-DQO-G RD-SS-G RD-SED-G  \n",
      "0       79.4    87.3     99.6  \n",
      "1       79.5    92.1      100  \n",
      "2       75.8    88.7     98.5  \n",
      "3       82.3    89.6      100  \n",
      "4       78.2    87.5     99.5  \n",
      "5       73.1    84.9      100  \n",
      "6       86.2    90.1     99.0  \n",
      "7       66.9    94.6      100  \n",
      "8       73.8    90.2     99.4  \n",
      "9       69.0    86.5     99.6  \n",
      "10      36.0    43.0     36.4  \n",
      "11       NaN    18.5     42.9  \n",
      "12      31.7    10.3     95.4  \n",
      "13      54.1    43.7      100  \n",
      "14      71.4    78.2     99.2  \n",
      "15      60.4    90.7      100  \n",
      "16      98.1    92.1      100  \n",
      "17      73.4    89.4     99.4  \n",
      "18      60.8    76.1     99.6  \n",
      "19      72.2    88.3      100  \n",
      "20      81.4    92.9      100  \n",
      "21      82.5    88.5     99.8  \n",
      "22      77.6    92.5      100  \n",
      "23      78.7    88.1      100  \n",
      "24      78.1    89.1      100  \n",
      "25      78.0    90.4      100  \n",
      "26      79.5    90.6     98.6  \n",
      "27      80.8    82.4      100  \n",
      "28      78.9    83.3      100  \n",
      "29      76.8    80.7      100  \n",
      "..       ...     ...      ...  \n",
      "497     82.4    90.7     99.8  \n",
      "498     95.0    91.8     95.7  \n",
      "499     79.9     NaN     98.6  \n",
      "500     85.3    83.8     96.7  \n",
      "501     81.2    89.7     99.2  \n",
      "502     72.7    85.6     99.3  \n",
      "503     73.3    88.4     99.3  \n",
      "504      NaN    76.6     99.0  \n",
      "505     78.9    88.7     99.6  \n",
      "506     86.1    88.8      100  \n",
      "507     76.8    87.6     99.3  \n",
      "508     91.6    96.0     99.7  \n",
      "509     84.8    90.3     99.3  \n",
      "510     77.2    90.7     98.6  \n",
      "511     79.8    92.3     99.3  \n",
      "512     87.7    91.6     98.8  \n",
      "513     80.5    82.7     99.0  \n",
      "514     72.5    83.1     98.6  \n",
      "515     81.7    93.4     99.3  \n",
      "516     81.0    89.0     99.4  \n",
      "517     86.2    91.2     99.5  \n",
      "518      NaN     NaN      NaN  \n",
      "519     85.0    90.3      100  \n",
      "520     79.6    89.1      100  \n",
      "521     83.8    81.4      NaN  \n",
      "522     78.6    96.6     99.6  \n",
      "523     74.6    90.7      100  \n",
      "524     77.1    88.9       99  \n",
      "525     87.0    89.5     99.8  \n",
      "526     81.7    86.4      NaN  \n",
      "\n",
      "[527 rows x 39 columns]\n"
     ]
    },
    {
     "name": "stderr",
     "output_type": "stream",
     "text": [
      "/Users/Nick/anaconda3/envs/ml/lib/python3.5/site-packages/pandas/core/ops.py:792: FutureWarning: elementwise comparison failed; returning scalar instead, but in the future will perform elementwise comparison\n",
      "  result = getattr(x, name)(y)\n"
     ]
    }
   ],
   "source": [
    "\n",
    "# Replace all ? with NaN\n",
    "for column in df.columns:\n",
    "    try: df[column][df[column] == \"?\"] = np.nan\n",
    "    except: continue\n",
    "        \n",
    "print(df)\n",
    "\n",
    "# Replace all NaN with mean\n",
    "for column in df.columns:\n",
    "    df[column] = df[column].\n",
    "        \n",
    "# # Replace all NaN with mean\n",
    "# for column in df.columns:\n",
    "#     df[column] = df[column].fillna(df[column].mean())\n",
    "# # # Replace all NaN with mean\n",
    "# # for column in df.columns:\n",
    "# #     try: df[column][df[column] == \"NaN\"] = df[column].mean()\n",
    "# #     except: continue\n"
   ]
  },
  {
   "cell_type": "markdown",
   "metadata": {},
   "source": [
    "<center><h2>Step 3: Training a Classifier</h2></center>\n",
    "\n",
    "You've cleaned your data, and split into training and testing sets, and explored your data frame.  Now, on to the fun stuff--let's create and train a Decision Tree Classifier!  Create a Decision Tree Classifier and fit it to your training set.  If you're not sure how, check out the sklearn docs for Decision Tree Classifiers!"
   ]
  },
  {
   "cell_type": "code",
   "execution_count": 12,
   "metadata": {
    "collapsed": false
   },
   "outputs": [
    {
     "ename": "ValueError",
     "evalue": "could not convert string to float: 'D-30/8/91'",
     "output_type": "error",
     "traceback": [
      "\u001b[0;31m---------------------------------------------------------------------------\u001b[0m",
      "\u001b[0;31mValueError\u001b[0m                                Traceback (most recent call last)",
      "\u001b[0;32m<ipython-input-12-4477a14d577c>\u001b[0m in \u001b[0;36m<module>\u001b[0;34m()\u001b[0m\n\u001b[1;32m      2\u001b[0m \u001b[0;34m\u001b[0m\u001b[0m\n\u001b[1;32m      3\u001b[0m \u001b[0;31m# Fit model\u001b[0m\u001b[0;34m\u001b[0m\u001b[0;34m\u001b[0m\u001b[0m\n\u001b[0;32m----> 4\u001b[0;31m \u001b[0mmodel\u001b[0m \u001b[0;34m=\u001b[0m \u001b[0mKMeans\u001b[0m\u001b[0;34m(\u001b[0m\u001b[0;34m)\u001b[0m\u001b[0;34m.\u001b[0m\u001b[0mfit\u001b[0m\u001b[0;34m(\u001b[0m\u001b[0mdf\u001b[0m\u001b[0;34m)\u001b[0m\u001b[0;34m\u001b[0m\u001b[0m\n\u001b[0m\u001b[1;32m      5\u001b[0m \u001b[0;34m\u001b[0m\u001b[0m\n\u001b[1;32m      6\u001b[0m \u001b[0;34m\u001b[0m\u001b[0m\n",
      "\u001b[0;32m/Users/Nick/anaconda3/envs/ml/lib/python3.5/site-packages/sklearn/cluster/k_means_.py\u001b[0m in \u001b[0;36mfit\u001b[0;34m(self, X, y)\u001b[0m\n\u001b[1;32m    878\u001b[0m         \"\"\"\n\u001b[1;32m    879\u001b[0m         \u001b[0mrandom_state\u001b[0m \u001b[0;34m=\u001b[0m \u001b[0mcheck_random_state\u001b[0m\u001b[0;34m(\u001b[0m\u001b[0mself\u001b[0m\u001b[0;34m.\u001b[0m\u001b[0mrandom_state\u001b[0m\u001b[0;34m)\u001b[0m\u001b[0;34m\u001b[0m\u001b[0m\n\u001b[0;32m--> 880\u001b[0;31m         \u001b[0mX\u001b[0m \u001b[0;34m=\u001b[0m \u001b[0mself\u001b[0m\u001b[0;34m.\u001b[0m\u001b[0m_check_fit_data\u001b[0m\u001b[0;34m(\u001b[0m\u001b[0mX\u001b[0m\u001b[0;34m)\u001b[0m\u001b[0;34m\u001b[0m\u001b[0m\n\u001b[0m\u001b[1;32m    881\u001b[0m \u001b[0;34m\u001b[0m\u001b[0m\n\u001b[1;32m    882\u001b[0m         \u001b[0mself\u001b[0m\u001b[0;34m.\u001b[0m\u001b[0mcluster_centers_\u001b[0m\u001b[0;34m,\u001b[0m \u001b[0mself\u001b[0m\u001b[0;34m.\u001b[0m\u001b[0mlabels_\u001b[0m\u001b[0;34m,\u001b[0m \u001b[0mself\u001b[0m\u001b[0;34m.\u001b[0m\u001b[0minertia_\u001b[0m\u001b[0;34m,\u001b[0m \u001b[0mself\u001b[0m\u001b[0;34m.\u001b[0m\u001b[0mn_iter_\u001b[0m \u001b[0;34m=\u001b[0m\u001b[0;31m \u001b[0m\u001b[0;31m\\\u001b[0m\u001b[0;34m\u001b[0m\u001b[0m\n",
      "\u001b[0;32m/Users/Nick/anaconda3/envs/ml/lib/python3.5/site-packages/sklearn/cluster/k_means_.py\u001b[0m in \u001b[0;36m_check_fit_data\u001b[0;34m(self, X)\u001b[0m\n\u001b[1;32m    852\u001b[0m     \u001b[0;32mdef\u001b[0m \u001b[0m_check_fit_data\u001b[0m\u001b[0;34m(\u001b[0m\u001b[0mself\u001b[0m\u001b[0;34m,\u001b[0m \u001b[0mX\u001b[0m\u001b[0;34m)\u001b[0m\u001b[0;34m:\u001b[0m\u001b[0;34m\u001b[0m\u001b[0m\n\u001b[1;32m    853\u001b[0m         \u001b[0;34m\"\"\"Verify that the number of samples given is larger than k\"\"\"\u001b[0m\u001b[0;34m\u001b[0m\u001b[0m\n\u001b[0;32m--> 854\u001b[0;31m         \u001b[0mX\u001b[0m \u001b[0;34m=\u001b[0m \u001b[0mcheck_array\u001b[0m\u001b[0;34m(\u001b[0m\u001b[0mX\u001b[0m\u001b[0;34m,\u001b[0m \u001b[0maccept_sparse\u001b[0m\u001b[0;34m=\u001b[0m\u001b[0;34m'csr'\u001b[0m\u001b[0;34m,\u001b[0m \u001b[0mdtype\u001b[0m\u001b[0;34m=\u001b[0m\u001b[0;34m[\u001b[0m\u001b[0mnp\u001b[0m\u001b[0;34m.\u001b[0m\u001b[0mfloat64\u001b[0m\u001b[0;34m,\u001b[0m \u001b[0mnp\u001b[0m\u001b[0;34m.\u001b[0m\u001b[0mfloat32\u001b[0m\u001b[0;34m]\u001b[0m\u001b[0;34m)\u001b[0m\u001b[0;34m\u001b[0m\u001b[0m\n\u001b[0m\u001b[1;32m    855\u001b[0m         \u001b[0;32mif\u001b[0m \u001b[0mX\u001b[0m\u001b[0;34m.\u001b[0m\u001b[0mshape\u001b[0m\u001b[0;34m[\u001b[0m\u001b[0;36m0\u001b[0m\u001b[0;34m]\u001b[0m \u001b[0;34m<\u001b[0m \u001b[0mself\u001b[0m\u001b[0;34m.\u001b[0m\u001b[0mn_clusters\u001b[0m\u001b[0;34m:\u001b[0m\u001b[0;34m\u001b[0m\u001b[0m\n\u001b[1;32m    856\u001b[0m             raise ValueError(\"n_samples=%d should be >= n_clusters=%d\" % (\n",
      "\u001b[0;32m/Users/Nick/anaconda3/envs/ml/lib/python3.5/site-packages/sklearn/utils/validation.py\u001b[0m in \u001b[0;36mcheck_array\u001b[0;34m(array, accept_sparse, dtype, order, copy, force_all_finite, ensure_2d, allow_nd, ensure_min_samples, ensure_min_features, warn_on_dtype, estimator)\u001b[0m\n\u001b[1;32m    380\u001b[0m                                       force_all_finite)\n\u001b[1;32m    381\u001b[0m     \u001b[0;32melse\u001b[0m\u001b[0;34m:\u001b[0m\u001b[0;34m\u001b[0m\u001b[0m\n\u001b[0;32m--> 382\u001b[0;31m         \u001b[0marray\u001b[0m \u001b[0;34m=\u001b[0m \u001b[0mnp\u001b[0m\u001b[0;34m.\u001b[0m\u001b[0marray\u001b[0m\u001b[0;34m(\u001b[0m\u001b[0marray\u001b[0m\u001b[0;34m,\u001b[0m \u001b[0mdtype\u001b[0m\u001b[0;34m=\u001b[0m\u001b[0mdtype\u001b[0m\u001b[0;34m,\u001b[0m \u001b[0morder\u001b[0m\u001b[0;34m=\u001b[0m\u001b[0morder\u001b[0m\u001b[0;34m,\u001b[0m \u001b[0mcopy\u001b[0m\u001b[0;34m=\u001b[0m\u001b[0mcopy\u001b[0m\u001b[0;34m)\u001b[0m\u001b[0;34m\u001b[0m\u001b[0m\n\u001b[0m\u001b[1;32m    383\u001b[0m \u001b[0;34m\u001b[0m\u001b[0m\n\u001b[1;32m    384\u001b[0m         \u001b[0;32mif\u001b[0m \u001b[0mensure_2d\u001b[0m\u001b[0;34m:\u001b[0m\u001b[0;34m\u001b[0m\u001b[0m\n",
      "\u001b[0;31mValueError\u001b[0m: could not convert string to float: 'D-30/8/91'"
     ]
    }
   ],
   "source": [
    "from sklearn.cluster import KMeans\n",
    "\n",
    "# Fit model\n",
    "model = KMeans().fit(df)\n",
    "\n",
    "\n",
    "# # Create and train a Decision Tree Classifier from sklearn.tree. If you're unsure of how to use the \n",
    "# # Decision Tree Classifier, check out the docs for it--sklearn has some of the best documentation out there!\n",
    "# from sklearn.tree import DecisionTreeClassifier\n",
    "\n",
    "# features = [train[\"Age\"], train[\"Sex\"], train[\"SibSp\"], train[\"Survived\"]]\n",
    "# tree = DecisionTreeClassifier()\n",
    "# tree = tree.fit(features, test)\n",
    "\n"
   ]
  },
  {
   "cell_type": "markdown",
   "metadata": {},
   "source": [
    "<center><h2>Step 4: Evaluating our Model</h2></center>\n",
    "\n",
    "We've trained our model, but **_can we trust our results?_** Use your Decision Tree Classifier to predict the outcomes of the items in your testing set.  Now that we have the results of our testing set predictions, let's calculate our F1 Score to see how we did.  If you aren't sure how to calculate the F1 Score, refer to the docs! "
   ]
  },
  {
   "cell_type": "code",
   "execution_count": 79,
   "metadata": {
    "collapsed": false
   },
   "outputs": [
    {
     "ename": "NameError",
     "evalue": "name 'tree' is not defined",
     "output_type": "error",
     "traceback": [
      "\u001b[0;31m---------------------------------------------------------------------------\u001b[0m",
      "\u001b[0;31mNameError\u001b[0m                                 Traceback (most recent call last)",
      "\u001b[0;32m<ipython-input-79-e3882e441801>\u001b[0m in \u001b[0;36m<module>\u001b[0;34m()\u001b[0m\n\u001b[1;32m      2\u001b[0m \u001b[0;32mfrom\u001b[0m \u001b[0msklearn\u001b[0m\u001b[0;34m.\u001b[0m\u001b[0mmetrics\u001b[0m \u001b[0;32mimport\u001b[0m \u001b[0mf1_score\u001b[0m\u001b[0;34m\u001b[0m\u001b[0m\n\u001b[1;32m      3\u001b[0m \u001b[0;34m\u001b[0m\u001b[0m\n\u001b[0;32m----> 4\u001b[0;31m \u001b[0mtree\u001b[0m\u001b[0;34m.\u001b[0m\u001b[0mmetrics\u001b[0m\u001b[0;34m.\u001b[0m\u001b[0mscore\u001b[0m\u001b[0;34m(\u001b[0m\u001b[0;34m)\u001b[0m\u001b[0;34m\u001b[0m\u001b[0m\n\u001b[0m\u001b[1;32m      5\u001b[0m \u001b[0;34m\u001b[0m\u001b[0m\n",
      "\u001b[0;31mNameError\u001b[0m: name 'tree' is not defined"
     ]
    }
   ],
   "source": [
    "# Evaluate your model's accuracy here.  Use your testing set to do--how will you evaluate your model's accuracy?\n",
    "from sklearn.metrics import f1_score\n",
    "\n",
    "tree.metrics.score()\n",
    "\n"
   ]
  },
  {
   "cell_type": "markdown",
   "metadata": {},
   "source": [
    "<center><h2>Stretch Challenge: Tuning our Model for Higher Accuracy</h2></center>\n",
    "\n",
    "Great job!  Now, tweak your model to see how much higher you can get your accuracy score!  Gloves are off--get that F1 Score up.  Every percentage point counts!\n",
    "\n",
    "(Hint:  Take a look at sklearn's GridSearchCV module!)"
   ]
  },
  {
   "cell_type": "code",
   "execution_count": 12,
   "metadata": {
    "collapsed": true
   },
   "outputs": [],
   "source": [
    "# Stretch challenge--can you tweak your model to get the accuracy up?  How high can you get your accuracy?\n",
    "\n"
   ]
  },
  {
   "cell_type": "code",
   "execution_count": null,
   "metadata": {
    "collapsed": true
   },
   "outputs": [],
   "source": []
  }
 ],
 "metadata": {
  "anaconda-cloud": {},
  "kernelspec": {
   "display_name": "Python 3",
   "language": "python",
   "name": "python3"
  },
  "language_info": {
   "codemirror_mode": {
    "name": "ipython",
    "version": 3
   },
   "file_extension": ".py",
   "mimetype": "text/x-python",
   "name": "python",
   "nbconvert_exporter": "python",
   "pygments_lexer": "ipython3",
   "version": "3.6.0"
  }
 },
 "nbformat": 4,
 "nbformat_minor": 1
}
